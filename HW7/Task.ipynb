{
 "cells": [
  {
   "cell_type": "markdown",
   "id": "75e02ac0",
   "metadata": {},
   "source": [
    "Создать телефонный справочник с возможностью импорта и экспорта данных в нескольких форматах.\n",
    "\n",
    "под форматами понимаем структуру файлов, например:в файле на одной строке хранится одна часть записи, пустая строка - разделитель\n",
    "\n",
    "Фамилия_1\n",
    "Имя_1\n",
    "Телефон_1\n",
    "Описание_1\n",
    "\n",
    "Фамилия_2\n",
    "Имя_2\n",
    "Телефон_2\n",
    "Описание_2\n",
    "\n",
    "и т.д.в файле на одной строке хранится все записи, символ разделитель - *;***\n",
    "\n",
    "Фамилия_1,Имя_1,Телефон_1,Описание_1\n",
    "\n",
    "Фамилия_2,Имя_2,Телефон_2,Описание_2"
   ]
  },
  {
   "cell_type": "code",
   "execution_count": null,
   "id": "ebbc6cb4",
   "metadata": {},
   "outputs": [],
   "source": [
    "COLUMNS = [\"Фамилия\", \"Имя\", \"Номер телефона\", \"Описание\",]"
   ]
  },
  {
   "cell_type": "code",
   "execution_count": 14,
   "id": "47cd6b0d",
   "metadata": {},
   "outputs": [],
   "source": [
    "def add_row():\n",
    "     return [input(f\"Введите: {i}: \") for i in COLUMNS]"
   ]
  },
  {
   "cell_type": "code",
   "execution_count": 44,
   "id": "4e572b79",
   "metadata": {},
   "outputs": [],
   "source": [
    "def write(arr):\n",
    "    with open(\"file_1.txt\", \"a\") as f:\n",
    "        f.write(\", \".join(arr) + \"\\n\")\n",
    "        "
   ]
  },
  {
   "cell_type": "code",
   "execution_count": 51,
   "id": "ec6f6e97",
   "metadata": {},
   "outputs": [],
   "source": [
    "def write_one_column(arr):\n",
    "    with open(\"file_2.txt\", \"a\") as f:\n",
    "        for value in arr:\n",
    "            f.write(value + \"\\n\")\n",
    "        f.write(\"\\n\")"
   ]
  },
  {
   "cell_type": "code",
   "execution_count": 73,
   "id": "da1bc802",
   "metadata": {},
   "outputs": [],
   "source": [
    "def read():\n",
    "    with open(\"file_1.txt\", \"r\") as f:\n",
    "        return [i.split(\", \") for i in f.read().strip().split(\"\\n\")]"
   ]
  },
  {
   "cell_type": "code",
   "execution_count": 80,
   "id": "5ddfb903",
   "metadata": {},
   "outputs": [],
   "source": [
    "def print_data(arr):\n",
    "    print(\", \".join(COLUMNS))\n",
    "    for i in arr:\n",
    "        print(\", \".join(i))"
   ]
  },
  {
   "cell_type": "code",
   "execution_count": 60,
   "id": "8095f6db",
   "metadata": {},
   "outputs": [
    {
     "name": "stdout",
     "output_type": "stream",
     "text": [
      "Введите: Фамилия: aaa\n",
      "Введите: Имя: aaa\n",
      "Введите: Номер телефона: 123\n",
      "Введите: Описание: 123\n",
      "Введите: Фамилия: bbb\n",
      "Введите: Имя: bbb\n",
      "Введите: Номер телефона: 123\n",
      "Введите: Описание: 123\n"
     ]
    }
   ],
   "source": [
    "for _ in range(2):\n",
    "    row = add_row()\n",
    "    write(row)\n",
    "    write_one_column(row)"
   ]
  },
  {
   "cell_type": "code",
   "execution_count": 81,
   "id": "8b24df42",
   "metadata": {},
   "outputs": [
    {
     "name": "stdout",
     "output_type": "stream",
     "text": [
      "Фамилия, Имя, Номер телефона, Описание\n",
      "aaa, aaa, 123, 123\n",
      "bbb, bbb, 123, 123\n"
     ]
    }
   ],
   "source": [
    "print_data(read())"
   ]
  },
  {
   "cell_type": "code",
   "execution_count": null,
   "id": "c3bfc4d0",
   "metadata": {},
   "outputs": [],
   "source": []
  },
  {
   "cell_type": "code",
   "execution_count": null,
   "id": "ca6db552",
   "metadata": {},
   "outputs": [],
   "source": []
  }
 ],
 "metadata": {
  "kernelspec": {
   "display_name": "Python 3 (ipykernel)",
   "language": "python",
   "name": "python3"
  },
  "language_info": {
   "codemirror_mode": {
    "name": "ipython",
    "version": 3
   },
   "file_extension": ".py",
   "mimetype": "text/x-python",
   "name": "python",
   "nbconvert_exporter": "python",
   "pygments_lexer": "ipython3",
   "version": "3.9.12"
  }
 },
 "nbformat": 4,
 "nbformat_minor": 5
}
