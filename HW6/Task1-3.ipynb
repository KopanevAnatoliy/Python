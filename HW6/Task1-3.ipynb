{
 "cells": [
  {
   "cell_type": "code",
   "execution_count": 1,
   "id": "adfd7332",
   "metadata": {},
   "outputs": [],
   "source": [
    "# Все задачи решать с помощью использования лямбд, filter, map, zip, enumerate, List Comprehension"
   ]
  },
  {
   "cell_type": "code",
   "execution_count": 2,
   "id": "388eebf0",
   "metadata": {},
   "outputs": [
    {
     "name": "stdout",
     "output_type": "stream",
     "text": [
      "22 24\n"
     ]
    }
   ],
   "source": [
    "# 1) Вводится список целых чисел в одну строчку через пробел. Необходимо оставить в нем только двузначные числа.\n",
    "# Реализовать программу с использованием функции filter. Результат отобразить на экране в виде последовательности\n",
    "# оставшихся чисел в одну строчку через пробел.\n",
    "# [1,2,3,4,22,234,24] ----> [22, 24]\n",
    "\n",
    "seq = [1,2,3,4,22,234,24]\n",
    "print(*filter(lambda x: x // 10 > 0 and x // 100 < 1, seq))"
   ]
  },
  {
   "cell_type": "code",
   "execution_count": 3,
   "id": "18d74345",
   "metadata": {},
   "outputs": [
    {
     "name": "stdout",
     "output_type": "stream",
     "text": [
      "['sadf'] [12, 5643]\n"
     ]
    }
   ],
   "source": [
    "# 2) Дан список, вывести отдельно буквы и цифры, пользуясь filter.\n",
    "\n",
    "# [12,'sadf',5643] ---> ['sadf'] ,[12,5643]\n",
    "\n",
    "seq = [12,'sadf',5643]\n",
    "\n",
    "print( list(filter(lambda x: isinstance(x,str) , seq)), list(filter(lambda x: not isinstance(x,str) , seq)) )"
   ]
  },
  {
   "cell_type": "code",
   "execution_count": 5,
   "id": "3fa5208b",
   "metadata": {},
   "outputs": [
    {
     "name": "stdout",
     "output_type": "stream",
     "text": [
      "11\n"
     ]
    }
   ],
   "source": [
    "# 3) Напишите программу, которая принимает на вход вещественное число и показывает сумму его цифр.\n",
    "\n",
    "# Пример:\n",
    "# - 6782 -> 23\n",
    "# - 0,56 -> 11\n",
    "\n",
    "number = 0,56\n",
    "\n",
    "print( sum(int(i) for i in str(number) if i.isdigit()) )"
   ]
  },
  {
   "cell_type": "code",
   "execution_count": null,
   "id": "85ef0268",
   "metadata": {},
   "outputs": [],
   "source": []
  },
  {
   "cell_type": "code",
   "execution_count": null,
   "id": "a515e3e5",
   "metadata": {},
   "outputs": [],
   "source": []
  },
  {
   "cell_type": "code",
   "execution_count": null,
   "id": "7cc5840a",
   "metadata": {},
   "outputs": [],
   "source": []
  }
 ],
 "metadata": {
  "kernelspec": {
   "display_name": "Python 3 (ipykernel)",
   "language": "python",
   "name": "python3"
  },
  "language_info": {
   "codemirror_mode": {
    "name": "ipython",
    "version": 3
   },
   "file_extension": ".py",
   "mimetype": "text/x-python",
   "name": "python",
   "nbconvert_exporter": "python",
   "pygments_lexer": "ipython3",
   "version": "3.9.12"
  }
 },
 "nbformat": 4,
 "nbformat_minor": 5
}
